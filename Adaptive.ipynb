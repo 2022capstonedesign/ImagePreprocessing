{
 "cells": [
  {
   "cell_type": "code",
   "execution_count": 1,
   "metadata": {},
   "outputs": [],
   "source": [
    "import cv2\n",
    "import numpy as np\n",
    "from matplotlib import pyplot as plt"
   ]
  },
  {
   "cell_type": "code",
   "execution_count": 2,
   "metadata": {},
   "outputs": [],
   "source": [
    "for i in range(2,89):\n",
    "    \n",
    "    if  i<10:\n",
    "        name = '/home/wendyunji/MCD/Data/공인/공인_00'+str(i)+'.jpg'\n",
    "        out = '/home/wendyunji/MCD/Preprocessing/Adaptive/공인/공인_00'+str(i)+'.jpg'\n",
    "    else :\n",
    "        name = '/home/wendyunji/MCD/Data/공인/공인_0'+str(i)+'.jpg'\n",
    "        out = '/home/wendyunji/MCD/Preprocessing/Adaptive/공인/공인_0'+str(i)+'.jpg'\n",
    "    \n",
    "    image = cv2.imread(name, cv2.IMREAD_COLOR) # 파일 불러오기\n",
    "    gray_image = cv2.cvtColor(image, cv2.COLOR_BGR2GRAY) # 흑백 이미지로 1차 변환\n",
    "    adaptive01 = cv2.adaptiveThreshold(gray_image, 255, cv2.ADAPTIVE_THRESH_GAUSSIAN_C, cv2.THRESH_BINARY, 11, 2) # 이미지의 각 부분에 따른 이미지 프로세싱\n",
    "    cv2.imwrite(out, adaptive01)  # 파일 저장하기"
   ]
  },
  {
   "cell_type": "code",
   "execution_count": 3,
   "metadata": {},
   "outputs": [],
   "source": [
    "for i in range(8,89):\n",
    "    if  i<10:\n",
    "        name = '/home/wendyunji/MCD/Data/삼성/삼성_00'+str(i)+'.jpg'\n",
    "        out = '/home/wendyunji/MCD/Preprocessing/Adaptive/삼성/삼성_00'+str(i)+'.jpg'\n",
    "\n",
    "    else :\n",
    "        name = '/home/wendyunji/MCD/Data/삼성/삼성_0'+str(i)+'.jpg'\n",
    "        out = '/home/wendyunji/MCD/Preprocessing/Adaptive/삼성/삼성_0'+str(i)+'.jpg'\n",
    "    \n",
    "    image = cv2.imread(name, cv2.IMREAD_COLOR) # 흑백 이미지로 로드\n",
    "    gray_image = cv2.cvtColor(image, cv2.COLOR_BGR2GRAY) # 흑백 이미지로 1차 변환\n",
    "    adaptive01 = cv2.adaptiveThreshold(gray_image, 255, cv2.ADAPTIVE_THRESH_GAUSSIAN_C, cv2.THRESH_BINARY, 11, 2) # 이미지의 각 부분에 따른 이미지 프로세싱\n",
    "    cv2.imwrite(out, adaptive01)  # 파일 저장하기"
   ]
  },
  {
   "cell_type": "code",
   "execution_count": 4,
   "metadata": {},
   "outputs": [],
   "source": [
    "for i in range(2,7):\n",
    "    if  i<10:\n",
    "        name = '/home/wendyunji/MCD/Data/삼성/삼성_00'+str(i)+'.jpg'\n",
    "        out = '/home/wendyunji/MCD/Preprocessing/Adaptive/삼성/삼성_00'+str(i)+'.jpg'\n",
    "\n",
    "    else :\n",
    "        name = '/home/wendyunji/MCD/Data/삼성/삼성_0'+str(i)+'.jpg'\n",
    "        out = '/home/wendyunji/MCD/Preprocessing/Adaptive/삼성/삼성_0'+str(i)+'.jpg'\n",
    "    \n",
    "    image = cv2.imread(name, cv2.IMREAD_COLOR) # 흑백 이미지로 로드\n",
    "    gray_image = cv2.cvtColor(image, cv2.COLOR_BGR2GRAY) # 흑백 이미지로 1차 변환\n",
    "    adaptive01 = cv2.adaptiveThreshold(gray_image, 255, cv2.ADAPTIVE_THRESH_GAUSSIAN_C, cv2.THRESH_BINARY, 11, 2) # 이미지의 각 부분에 따른 이미지 프로세싱\n",
    "    cv2.imwrite(out, adaptive01)  # 파일 저장하기"
   ]
  }
 ],
 "metadata": {
  "kernelspec": {
   "display_name": "Python 3.10.6 ('MCD')",
   "language": "python",
   "name": "python3"
  },
  "language_info": {
   "codemirror_mode": {
    "name": "ipython",
    "version": 3
   },
   "file_extension": ".py",
   "mimetype": "text/x-python",
   "name": "python",
   "nbconvert_exporter": "python",
   "pygments_lexer": "ipython3",
   "version": "3.10.6"
  },
  "orig_nbformat": 4,
  "vscode": {
   "interpreter": {
    "hash": "b90320397ef4ac64fae000d7fe6eaed2836c878cf842d4c767ba7c76ccdb96d9"
   }
  }
 },
 "nbformat": 4,
 "nbformat_minor": 2
}
